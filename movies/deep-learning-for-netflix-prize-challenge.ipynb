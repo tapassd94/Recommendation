{
 "cells": [
  {
   "cell_type": "markdown",
   "metadata": {
    "papermill": {
     "duration": 0.011121,
     "end_time": "2021-02-24T13:59:02.073173",
     "exception": false,
     "start_time": "2021-02-24T13:59:02.062052",
     "status": "completed"
    },
    "tags": []
   },
   "source": [
    "# Introduction\n",
    "\n",
    "In this notebook, I am going to build a recommendation system using deep learning trained on dataset of the famous Netflix Challenge competition.\n",
    "\n",
    "The Netflix Challenge was an open competition to find the best collaborative filtering algorithm to predict user ratings for movies.\n",
    "This challenge would be very useful for any practical application of predicting user's future rating and product's recommendation.\n",
    "\n",
    "The dataset consists of ratings for 17,770 movies by 2,649,430 users. The challenge's goal is to develop a system that could beat the RMSE accuracy of 0.9514 from their in-house developed recommendation system (the Cinematch) by 10%. In 2009, the prize was awarded to team ”BellKor’s Pragmatic Chaos” with RMSE of 0.8567 or 10.06% improvement. However, most of winning solutions at that time was (too) complex and hard to be put into production.\n",
    "\n",
    "Moreover, to process this whole massive and sparse matrix dataset (only around 1 % of the entries are non-zero/rated), it would take days to complete the whole training. Therefore for the sake of showing a new solution of deep learning, I would only process a smaller dataset of 2000 top rated movies and 10,000 top users (who gave the most rates). By focusing on this top 11% movies and 0.4% users, I still can retain 10% of the ratings from the whole data.\n",
    "\n",
    "In this notebook, I am showing a recommendation system with Keras deep learning, which is quite simple but still can achieve decent accuracy. \n",
    "\n"
   ]
  },
  {
   "cell_type": "markdown",
   "metadata": {
    "papermill": {
     "duration": 0.009558,
     "end_time": "2021-02-24T13:59:02.092788",
     "exception": false,
     "start_time": "2021-02-24T13:59:02.083230",
     "status": "completed"
    },
    "tags": []
   },
   "source": [
    "Setup:"
   ]
  },
  {
   "cell_type": "code",
   "execution_count": 1,
   "metadata": {
    "_cell_guid": "b1076dfc-b9ad-4769-8c92-a6c4dae69d19",
    "_uuid": "8f2839f25d086af736a60e9eeb907d3b93b6e0e5",
    "execution": {
     "iopub.execute_input": "2021-02-24T13:59:02.121564Z",
     "iopub.status.busy": "2021-02-24T13:59:02.115273Z",
     "iopub.status.idle": "2021-02-24T13:59:08.974874Z",
     "shell.execute_reply": "2021-02-24T13:59:08.975481Z"
    },
    "papermill": {
     "duration": 6.872947,
     "end_time": "2021-02-24T13:59:08.975709",
     "exception": false,
     "start_time": "2021-02-24T13:59:02.102762",
     "status": "completed"
    },
    "tags": []
   },
   "outputs": [
    {
     "name": "stdout",
     "output_type": "stream",
     "text": [
      "/kaggle/input/netflix-prize-data/combined_data_3.txt\n",
      "/kaggle/input/netflix-prize-data/movie_titles.csv\n",
      "/kaggle/input/netflix-prize-data/combined_data_4.txt\n",
      "/kaggle/input/netflix-prize-data/combined_data_1.txt\n",
      "/kaggle/input/netflix-prize-data/README\n",
      "/kaggle/input/netflix-prize-data/probe.txt\n",
      "/kaggle/input/netflix-prize-data/combined_data_2.txt\n",
      "/kaggle/input/netflix-prize-data/qualifying.txt\n"
     ]
    }
   ],
   "source": [
    "import numpy as np # linear algebra\n",
    "import pandas as pd # data processing, CSV file I/O (e.g. pd.read_csv)\n",
    "\n",
    "import os\n",
    "for dirname, _, filenames in os.walk('/kaggle/input'):\n",
    "    for filename in filenames:\n",
    "        print(os.path.join(dirname, filename))\n",
    "\n",
    "import matplotlib.pyplot as plt\n",
    "from sklearn.preprocessing import LabelEncoder\n",
    "from sklearn.model_selection import train_test_split\n",
    "\n",
    "import tensorflow as tf\n",
    "from tensorflow import keras\n",
    "from keras.models import Model\n",
    "from keras.layers import Input, Reshape, Dot\n",
    "from keras.layers.embeddings import Embedding\n",
    "from keras.layers import Concatenate, Dense, Dropout\n",
    "from keras.optimizers import Adam\n",
    "from keras.regularizers import l2"
   ]
  },
  {
   "cell_type": "markdown",
   "metadata": {
    "papermill": {
     "duration": 0.010356,
     "end_time": "2021-02-24T13:59:08.997592",
     "exception": false,
     "start_time": "2021-02-24T13:59:08.987236",
     "status": "completed"
    },
    "tags": []
   },
   "source": [
    "# Importing Data \n",
    "\n",
    "As the raw data format is not readable as csv file, we need some pre-process steps to convert it into csv format and then import to pandas dataframe later\n"
   ]
  },
  {
   "cell_type": "code",
   "execution_count": 2,
   "metadata": {
    "_cell_guid": "79c7e3d0-c299-4dcb-8224-4455121ee9b0",
    "_uuid": "d629ff2d2480ee46fbb7e2d37f6b5fab8052498a",
    "execution": {
     "iopub.execute_input": "2021-02-24T13:59:09.028534Z",
     "iopub.status.busy": "2021-02-24T13:59:09.027767Z",
     "iopub.status.idle": "2021-02-24T14:01:08.052550Z",
     "shell.execute_reply": "2021-02-24T14:01:08.051757Z"
    },
    "papermill": {
     "duration": 119.04442,
     "end_time": "2021-02-24T14:01:08.052719",
     "exception": false,
     "start_time": "2021-02-24T13:59:09.008299",
     "status": "completed"
    },
    "tags": []
   },
   "outputs": [
    {
     "name": "stdout",
     "output_type": "stream",
     "text": [
      "Opening file: ../input/netflix-prize-data/combined_data_1.txt\n",
      "Opening file: ../input/netflix-prize-data/combined_data_2.txt\n",
      "movie_id      9210\n",
      "user_id     478018\n",
      "rating           5\n",
      "date          2182\n",
      "dtype: int64\n",
      "CPU times: user 1min 48s, sys: 10.6 s, total: 1min 58s\n",
      "Wall time: 1min 58s\n"
     ]
    },
    {
     "data": {
      "text/html": [
       "<div>\n",
       "<style scoped>\n",
       "    .dataframe tbody tr th:only-of-type {\n",
       "        vertical-align: middle;\n",
       "    }\n",
       "\n",
       "    .dataframe tbody tr th {\n",
       "        vertical-align: top;\n",
       "    }\n",
       "\n",
       "    .dataframe thead th {\n",
       "        text-align: right;\n",
       "    }\n",
       "</style>\n",
       "<table border=\"1\" class=\"dataframe\">\n",
       "  <thead>\n",
       "    <tr style=\"text-align: right;\">\n",
       "      <th></th>\n",
       "      <th>movie_id</th>\n",
       "      <th>user_id</th>\n",
       "      <th>rating</th>\n",
       "      <th>date</th>\n",
       "    </tr>\n",
       "  </thead>\n",
       "  <tbody>\n",
       "    <tr>\n",
       "      <th>0</th>\n",
       "      <td>1</td>\n",
       "      <td>1488844</td>\n",
       "      <td>3</td>\n",
       "      <td>2005-09-06</td>\n",
       "    </tr>\n",
       "    <tr>\n",
       "      <th>1</th>\n",
       "      <td>1</td>\n",
       "      <td>822109</td>\n",
       "      <td>5</td>\n",
       "      <td>2005-05-13</td>\n",
       "    </tr>\n",
       "    <tr>\n",
       "      <th>2</th>\n",
       "      <td>1</td>\n",
       "      <td>885013</td>\n",
       "      <td>4</td>\n",
       "      <td>2005-10-19</td>\n",
       "    </tr>\n",
       "    <tr>\n",
       "      <th>3</th>\n",
       "      <td>1</td>\n",
       "      <td>30878</td>\n",
       "      <td>4</td>\n",
       "      <td>2005-12-26</td>\n",
       "    </tr>\n",
       "    <tr>\n",
       "      <th>4</th>\n",
       "      <td>1</td>\n",
       "      <td>823519</td>\n",
       "      <td>3</td>\n",
       "      <td>2004-05-03</td>\n",
       "    </tr>\n",
       "    <tr>\n",
       "      <th>...</th>\n",
       "      <td>...</td>\n",
       "      <td>...</td>\n",
       "      <td>...</td>\n",
       "      <td>...</td>\n",
       "    </tr>\n",
       "    <tr>\n",
       "      <th>51031350</th>\n",
       "      <td>9210</td>\n",
       "      <td>2420260</td>\n",
       "      <td>1</td>\n",
       "      <td>2003-12-01</td>\n",
       "    </tr>\n",
       "    <tr>\n",
       "      <th>51031351</th>\n",
       "      <td>9210</td>\n",
       "      <td>761176</td>\n",
       "      <td>3</td>\n",
       "      <td>2004-06-06</td>\n",
       "    </tr>\n",
       "    <tr>\n",
       "      <th>51031352</th>\n",
       "      <td>9210</td>\n",
       "      <td>459277</td>\n",
       "      <td>3</td>\n",
       "      <td>2005-02-25</td>\n",
       "    </tr>\n",
       "    <tr>\n",
       "      <th>51031353</th>\n",
       "      <td>9210</td>\n",
       "      <td>2407365</td>\n",
       "      <td>4</td>\n",
       "      <td>2005-04-29</td>\n",
       "    </tr>\n",
       "    <tr>\n",
       "      <th>51031354</th>\n",
       "      <td>9210</td>\n",
       "      <td>627867</td>\n",
       "      <td>3</td>\n",
       "      <td>2005-05-02</td>\n",
       "    </tr>\n",
       "  </tbody>\n",
       "</table>\n",
       "<p>51031355 rows × 4 columns</p>\n",
       "</div>"
      ],
      "text/plain": [
       "          movie_id  user_id  rating        date\n",
       "0                1  1488844       3  2005-09-06\n",
       "1                1   822109       5  2005-05-13\n",
       "2                1   885013       4  2005-10-19\n",
       "3                1    30878       4  2005-12-26\n",
       "4                1   823519       3  2004-05-03\n",
       "...            ...      ...     ...         ...\n",
       "51031350      9210  2420260       1  2003-12-01\n",
       "51031351      9210   761176       3  2004-06-06\n",
       "51031352      9210   459277       3  2005-02-25\n",
       "51031353      9210  2407365       4  2005-04-29\n",
       "51031354      9210   627867       3  2005-05-02\n",
       "\n",
       "[51031355 rows x 4 columns]"
      ]
     },
     "execution_count": 2,
     "metadata": {},
     "output_type": "execute_result"
    }
   ],
   "source": [
    "%%time\n",
    "## coiuld replace with pd.read_csv and dropping NaNs/ : cols ? \n",
    "\n",
    "# DataFrame to store all imported data\n",
    "if not os.path.isfile('data.csv'):\n",
    "    data = open('data.csv', mode='w')\n",
    "\n",
    "files = ['../input/netflix-prize-data/combined_data_1.txt',\n",
    "         '../input/netflix-prize-data/combined_data_2.txt',\n",
    "#          '../input/netflix-prize-data/combined_data_3.txt',  # read in half of data only for speedup\n",
    "#          '../input/netflix-prize-data/combined_data_4.txt'\n",
    "        ]\n",
    "\n",
    "# Remove the line with movie_id: and add a new column of movie_id\n",
    "# Combine all data files into a csv file\n",
    "for file in files:\n",
    "  print(\"Opening file: {}\".format(file))\n",
    "  with open(file) as f:\n",
    "    for line in f:\n",
    "        line = line.strip()\n",
    "        if line.endswith(':'):\n",
    "            movie_id = line.replace(':', '')\n",
    "        else:\n",
    "            data.write(movie_id + ',' + line)\n",
    "            data.write('\\n')\n",
    "data.close()\n",
    "\n",
    "# Read all data into a pd dataframe\n",
    "df = pd.read_csv('data.csv', names=['movie_id', 'user_id','rating','date'])\n",
    "print(df.nunique())\n",
    "df"
   ]
  },
  {
   "cell_type": "markdown",
   "metadata": {
    "papermill": {
     "duration": 0.011704,
     "end_time": "2021-02-24T14:01:08.076696",
     "exception": false,
     "start_time": "2021-02-24T14:01:08.064992",
     "status": "completed"
    },
    "tags": []
   },
   "source": [
    "# Pre-process data\n",
    "\n",
    "From dataframe df, let's take only a smaller dataset of 2,000 top rated movies and 10,000 top users (who gave the most rates) and save into new df: lite_rating_df"
   ]
  },
  {
   "cell_type": "code",
   "execution_count": 3,
   "metadata": {
    "execution": {
     "iopub.execute_input": "2021-02-24T14:01:08.114448Z",
     "iopub.status.busy": "2021-02-24T14:01:08.113801Z",
     "iopub.status.idle": "2021-02-24T14:01:27.785001Z",
     "shell.execute_reply": "2021-02-24T14:01:27.784429Z"
    },
    "papermill": {
     "duration": 19.696435,
     "end_time": "2021-02-24T14:01:27.785131",
     "exception": false,
     "start_time": "2021-02-24T14:01:08.088696",
     "status": "completed"
    },
    "tags": []
   },
   "outputs": [
    {
     "data": {
      "text/html": [
       "<div>\n",
       "<style scoped>\n",
       "    .dataframe tbody tr th:only-of-type {\n",
       "        vertical-align: middle;\n",
       "    }\n",
       "\n",
       "    .dataframe tbody tr th {\n",
       "        vertical-align: top;\n",
       "    }\n",
       "\n",
       "    .dataframe thead th {\n",
       "        text-align: right;\n",
       "    }\n",
       "</style>\n",
       "<table border=\"1\" class=\"dataframe\">\n",
       "  <thead>\n",
       "    <tr style=\"text-align: right;\">\n",
       "      <th></th>\n",
       "      <th>movie_id</th>\n",
       "      <th>user_id</th>\n",
       "      <th>rating</th>\n",
       "      <th>date</th>\n",
       "      <th>rating_r</th>\n",
       "      <th>rating_r</th>\n",
       "      <th>user</th>\n",
       "      <th>movie</th>\n",
       "    </tr>\n",
       "  </thead>\n",
       "  <tbody>\n",
       "    <tr>\n",
       "      <th>5149</th>\n",
       "      <td>8</td>\n",
       "      <td>1488844</td>\n",
       "      <td>4</td>\n",
       "      <td>2005-05-12</td>\n",
       "      <td>1127</td>\n",
       "      <td>14910</td>\n",
       "      <td>5609</td>\n",
       "      <td>0</td>\n",
       "    </tr>\n",
       "    <tr>\n",
       "      <th>5883</th>\n",
       "      <td>8</td>\n",
       "      <td>1227322</td>\n",
       "      <td>5</td>\n",
       "      <td>2005-05-31</td>\n",
       "      <td>2467</td>\n",
       "      <td>14910</td>\n",
       "      <td>4610</td>\n",
       "      <td>0</td>\n",
       "    </tr>\n",
       "    <tr>\n",
       "      <th>6183</th>\n",
       "      <td>8</td>\n",
       "      <td>525356</td>\n",
       "      <td>4</td>\n",
       "      <td>2005-08-26</td>\n",
       "      <td>2555</td>\n",
       "      <td>14910</td>\n",
       "      <td>1942</td>\n",
       "      <td>0</td>\n",
       "    </tr>\n",
       "    <tr>\n",
       "      <th>6310</th>\n",
       "      <td>8</td>\n",
       "      <td>401047</td>\n",
       "      <td>2</td>\n",
       "      <td>2005-06-15</td>\n",
       "      <td>1087</td>\n",
       "      <td>14910</td>\n",
       "      <td>1464</td>\n",
       "      <td>0</td>\n",
       "    </tr>\n",
       "    <tr>\n",
       "      <th>7140</th>\n",
       "      <td>8</td>\n",
       "      <td>883478</td>\n",
       "      <td>5</td>\n",
       "      <td>2005-10-10</td>\n",
       "      <td>1642</td>\n",
       "      <td>14910</td>\n",
       "      <td>3264</td>\n",
       "      <td>0</td>\n",
       "    </tr>\n",
       "    <tr>\n",
       "      <th>...</th>\n",
       "      <td>...</td>\n",
       "      <td>...</td>\n",
       "      <td>...</td>\n",
       "      <td>...</td>\n",
       "      <td>...</td>\n",
       "      <td>...</td>\n",
       "      <td>...</td>\n",
       "      <td>...</td>\n",
       "    </tr>\n",
       "    <tr>\n",
       "      <th>43558457</th>\n",
       "      <td>7673</td>\n",
       "      <td>733887</td>\n",
       "      <td>2</td>\n",
       "      <td>2002-06-19</td>\n",
       "      <td>908</td>\n",
       "      <td>4204</td>\n",
       "      <td>2697</td>\n",
       "      <td>1657</td>\n",
       "    </tr>\n",
       "    <tr>\n",
       "      <th>43558566</th>\n",
       "      <td>7673</td>\n",
       "      <td>2352586</td>\n",
       "      <td>3</td>\n",
       "      <td>2002-06-27</td>\n",
       "      <td>601</td>\n",
       "      <td>4204</td>\n",
       "      <td>8841</td>\n",
       "      <td>1657</td>\n",
       "    </tr>\n",
       "    <tr>\n",
       "      <th>43557096</th>\n",
       "      <td>7673</td>\n",
       "      <td>2311863</td>\n",
       "      <td>3</td>\n",
       "      <td>2004-06-23</td>\n",
       "      <td>799</td>\n",
       "      <td>4204</td>\n",
       "      <td>8692</td>\n",
       "      <td>1657</td>\n",
       "    </tr>\n",
       "    <tr>\n",
       "      <th>43558277</th>\n",
       "      <td>7673</td>\n",
       "      <td>385136</td>\n",
       "      <td>2</td>\n",
       "      <td>2005-03-11</td>\n",
       "      <td>628</td>\n",
       "      <td>4204</td>\n",
       "      <td>1393</td>\n",
       "      <td>1657</td>\n",
       "    </tr>\n",
       "    <tr>\n",
       "      <th>43557179</th>\n",
       "      <td>7673</td>\n",
       "      <td>206564</td>\n",
       "      <td>4</td>\n",
       "      <td>2005-01-12</td>\n",
       "      <td>715</td>\n",
       "      <td>4204</td>\n",
       "      <td>712</td>\n",
       "      <td>1657</td>\n",
       "    </tr>\n",
       "  </tbody>\n",
       "</table>\n",
       "<p>6522791 rows × 8 columns</p>\n",
       "</div>"
      ],
      "text/plain": [
       "          movie_id  user_id  rating        date  rating_r  rating_r  user  \\\n",
       "5149             8  1488844       4  2005-05-12      1127     14910  5609   \n",
       "5883             8  1227322       5  2005-05-31      2467     14910  4610   \n",
       "6183             8   525356       4  2005-08-26      2555     14910  1942   \n",
       "6310             8   401047       2  2005-06-15      1087     14910  1464   \n",
       "7140             8   883478       5  2005-10-10      1642     14910  3264   \n",
       "...            ...      ...     ...         ...       ...       ...   ...   \n",
       "43558457      7673   733887       2  2002-06-19       908      4204  2697   \n",
       "43558566      7673  2352586       3  2002-06-27       601      4204  8841   \n",
       "43557096      7673  2311863       3  2004-06-23       799      4204  8692   \n",
       "43558277      7673   385136       2  2005-03-11       628      4204  1393   \n",
       "43557179      7673   206564       4  2005-01-12       715      4204   712   \n",
       "\n",
       "          movie  \n",
       "5149          0  \n",
       "5883          0  \n",
       "6183          0  \n",
       "6310          0  \n",
       "7140          0  \n",
       "...         ...  \n",
       "43558457   1657  \n",
       "43558566   1657  \n",
       "43557096   1657  \n",
       "43558277   1657  \n",
       "43557179   1657  \n",
       "\n",
       "[6522791 rows x 8 columns]"
      ]
     },
     "execution_count": 3,
     "metadata": {},
     "output_type": "execute_result"
    }
   ],
   "source": [
    "lite_rating_df = pd.DataFrame()\n",
    "\n",
    "group = df.groupby('user_id')['rating'].count()\n",
    "top_users = group.sort_values(ascending=False)[:10000]\n",
    "\n",
    "group = df.groupby('movie_id')['rating'].count()\n",
    "top_movies = group.sort_values(ascending=False)[:2000]\n",
    "\n",
    "lite_rating_df = df.join(top_users, rsuffix='_r', how='inner', on='user_id')\n",
    "lite_rating_df = lite_rating_df.join(top_movies, rsuffix='_r', how='inner', on='movie_id')\n",
    "\n",
    "# Re-name the users and movies for uniform name from 0..2000 and 10000\n",
    "user_enc = LabelEncoder()\n",
    "lite_rating_df['user'] = user_enc.fit_transform(lite_rating_df['user_id'].values)\n",
    "movie_enc = LabelEncoder()\n",
    "lite_rating_df['movie'] = movie_enc.fit_transform(lite_rating_df['movie_id'].values)\n",
    "\n",
    "n_movies = lite_rating_df['movie'].nunique()\n",
    "n_users = lite_rating_df['user'].nunique()\n",
    "\n",
    "# print(n_movies, n_users)\n",
    "lite_rating_df"
   ]
  },
  {
   "cell_type": "markdown",
   "metadata": {
    "papermill": {
     "duration": 0.012858,
     "end_time": "2021-02-24T14:01:27.811337",
     "exception": false,
     "start_time": "2021-02-24T14:01:27.798479",
     "status": "completed"
    },
    "tags": []
   },
   "source": [
    "Prepare data for training"
   ]
  },
  {
   "cell_type": "code",
   "execution_count": 4,
   "metadata": {
    "execution": {
     "iopub.execute_input": "2021-02-24T14:01:27.900965Z",
     "iopub.status.busy": "2021-02-24T14:01:27.900228Z",
     "iopub.status.idle": "2021-02-24T14:01:29.542278Z",
     "shell.execute_reply": "2021-02-24T14:01:29.541692Z"
    },
    "papermill": {
     "duration": 1.717816,
     "end_time": "2021-02-24T14:01:29.542419",
     "exception": false,
     "start_time": "2021-02-24T14:01:27.824603",
     "status": "completed"
    },
    "tags": []
   },
   "outputs": [],
   "source": [
    "X = lite_rating_df[['user', 'movie']].values\n",
    "y = lite_rating_df['rating'].values\n",
    "\n",
    "# Split train and test data (for test model performance at last)\n",
    "X_training, X_test, y_training, y_test = train_test_split(X, y, test_size=0.1)\n",
    "\n",
    "# Split train and validation data (to monitor model performance in training)\n",
    "X_train, X_val, y_train, y_val = train_test_split(X_training, y_training, test_size=0.1)\n",
    "\n",
    "# Set the embedding dimension d of Matrix factorization\n",
    "e_dimension = 200 # was 50\n",
    "\n",
    "X_train_array = [X_train[:, 0], X_train[:, 1]]\n",
    "X_val_array = [X_val[:, 0], X_val[:, 1]]\n",
    "X_test_array = [X_test[:, 0], X_test[:, 1]]\n"
   ]
  },
  {
   "cell_type": "markdown",
   "metadata": {
    "papermill": {
     "duration": 0.012827,
     "end_time": "2021-02-24T14:01:29.568536",
     "exception": false,
     "start_time": "2021-02-24T14:01:29.555709",
     "status": "completed"
    },
    "tags": []
   },
   "source": [
    "# Build and train deep learning model\n",
    "\n",
    "The embeddings is used to represent each user and each movie in the data. \n",
    "The dot product of user embedding matrix (size: n_users x e_dimension) and movie embedding matrix (size: n_movies x e_dimension) is a good approximation of the rating from user for movie. The model's goal is to minimize the distqace between this dot product and the ratings (training target)\n"
   ]
  },
  {
   "cell_type": "code",
   "execution_count": 5,
   "metadata": {
    "execution": {
     "iopub.execute_input": "2021-02-24T14:01:29.610904Z",
     "iopub.status.busy": "2021-02-24T14:01:29.610148Z",
     "iopub.status.idle": "2021-02-24T15:37:12.521519Z",
     "shell.execute_reply": "2021-02-24T15:37:12.522093Z"
    },
    "papermill": {
     "duration": 5742.940621,
     "end_time": "2021-02-24T15:37:12.522242",
     "exception": false,
     "start_time": "2021-02-24T14:01:29.581621",
     "status": "completed"
    },
    "tags": []
   },
   "outputs": [
    {
     "name": "stdout",
     "output_type": "stream",
     "text": [
      "Model: \"model\"\n",
      "__________________________________________________________________________________________________\n",
      "Layer (type)                    Output Shape         Param #     Connected to                     \n",
      "==================================================================================================\n",
      "input_1 (InputLayer)            [(None, 1)]          0                                            \n",
      "__________________________________________________________________________________________________\n",
      "input_2 (InputLayer)            [(None, 1)]          0                                            \n",
      "__________________________________________________________________________________________________\n",
      "embedding (Embedding)           (None, 1, 200)       2000000     input_1[0][0]                    \n",
      "__________________________________________________________________________________________________\n",
      "embedding_1 (Embedding)         (None, 1, 200)       400000      input_2[0][0]                    \n",
      "__________________________________________________________________________________________________\n",
      "reshape (Reshape)               (None, 200)          0           embedding[0][0]                  \n",
      "__________________________________________________________________________________________________\n",
      "reshape_1 (Reshape)             (None, 200)          0           embedding_1[0][0]                \n",
      "__________________________________________________________________________________________________\n",
      "dot (Dot)                       (None, 1)            0           reshape[0][0]                    \n",
      "                                                                 reshape_1[0][0]                  \n",
      "__________________________________________________________________________________________________\n",
      "concatenate (Concatenate)       (None, 401)          0           reshape[0][0]                    \n",
      "                                                                 reshape_1[0][0]                  \n",
      "                                                                 dot[0][0]                        \n",
      "__________________________________________________________________________________________________\n",
      "dropout (Dropout)               (None, 401)          0           concatenate[0][0]                \n",
      "__________________________________________________________________________________________________\n",
      "dense (Dense)                   (None, 256)          102912      dropout[0][0]                    \n",
      "__________________________________________________________________________________________________\n",
      "dropout_1 (Dropout)             (None, 256)          0           dense[0][0]                      \n",
      "__________________________________________________________________________________________________\n",
      "dense_1 (Dense)                 (None, 1)            257         dropout_1[0][0]                  \n",
      "==================================================================================================\n",
      "Total params: 2,503,169\n",
      "Trainable params: 2,503,169\n",
      "Non-trainable params: 0\n",
      "__________________________________________________________________________________________________\n",
      "Epoch 1/10\n"
     ]
    },
    {
     "name": "stderr",
     "output_type": "stream",
     "text": [
      "/opt/conda/lib/python3.7/site-packages/tensorflow/python/framework/indexed_slices.py:434: UserWarning: Converting sparse IndexedSlices to a dense Tensor of unknown shape. This may consume a large amount of memory.\n",
      "  \"Converting sparse IndexedSlices to a dense Tensor of unknown shape. \"\n"
     ]
    },
    {
     "name": "stdout",
     "output_type": "stream",
     "text": [
      "82555/82555 [==============================] - 1131s 14ms/step - loss: 0.8613 - root_mean_squared_error: 0.9112 - val_loss: 0.8142 - val_root_mean_squared_error: 0.8761\n",
      "Epoch 2/10\n",
      "82555/82555 [==============================] - 1139s 14ms/step - loss: 0.8197 - root_mean_squared_error: 0.8744 - val_loss: 0.7641 - val_root_mean_squared_error: 0.8388\n",
      "Epoch 3/10\n",
      "82555/82555 [==============================] - 1202s 15ms/step - loss: 0.7987 - root_mean_squared_error: 0.8552 - val_loss: 0.7606 - val_root_mean_squared_error: 0.8309\n",
      "Epoch 4/10\n",
      "82555/82555 [==============================] - 1121s 14ms/step - loss: 0.7871 - root_mean_squared_error: 0.8430 - val_loss: 0.7575 - val_root_mean_squared_error: 0.8240\n",
      "Epoch 5/10\n",
      "82555/82555 [==============================] - 1115s 14ms/step - loss: 0.7753 - root_mean_squared_error: 0.8315 - val_loss: 0.7681 - val_root_mean_squared_error: 0.8265\n"
     ]
    }
   ],
   "source": [
    "# Build user and movie embedding matrix\n",
    "user = Input(shape=(1,))\n",
    "u = Embedding(n_users, e_dimension, embeddings_initializer='he_normal',\n",
    "              embeddings_regularizer=l2(1e-7))(user) # embedding was 1e-6\n",
    "u = Reshape((e_dimension,))(u)\n",
    "movie = Input(shape=(1,))\n",
    "m = Embedding(n_movies, e_dimension, embeddings_initializer='he_normal',\n",
    "              embeddings_regularizer=l2(1e-7))(movie)  # embedding was 1e-6\n",
    "m = Reshape((e_dimension,))(m)\n",
    "\n",
    "x = Dot(axes=1)([u, m])\n",
    "## new : concat user, id along with dot\n",
    "x = Concatenate()([u, m,x])\n",
    "x = Dropout(0.2)(x)\n",
    "\n",
    "# Build last deep learning layers \n",
    "x = Dense(256, activation='relu')(x)\n",
    "x = Dropout(0.2)(x)\n",
    "# x = Dense(128, activation='relu')(x)\n",
    "# x = Dropout(0.2)(x)\n",
    "x = Dense(1)(x)\n",
    "\n",
    "model = Model(inputs=[user, movie], outputs=x)\n",
    "model.compile(loss='mean_squared_error', \n",
    "              optimizer=Adam(lr=0.003),  ## 0.001\n",
    "              metrics=[tf.keras.metrics.RootMeanSquaredError()]\n",
    "              )\n",
    "\n",
    "# Set up for early stop if the validation loss stop improving for more than 1 epoch\n",
    "callbacks_list = [keras.callbacks.EarlyStopping(monitor='val_loss',\n",
    "                                                patience=1,\n",
    "                                                ),\n",
    "                  # Saves the weights after every epoch\n",
    "                  keras.callbacks.ModelCheckpoint(  \n",
    "                      filepath='Model_1',\n",
    "                      monitor='val_loss',\n",
    "                      save_best_only=True,\n",
    "                      )]\n",
    "\n",
    "# Print model info summary\n",
    "model.summary()  \n",
    "\n",
    "history = model.fit(x=X_train_array, y=y_train, batch_size=64,\n",
    "                    epochs=10, # 20\n",
    "                    verbose=1, \n",
    "                    callbacks=callbacks_list,\n",
    "                    validation_data=(X_val_array, y_val)\n",
    "                    )\n",
    "\n",
    "# Save the model (we should make a good habit of always saving our models after training)\n",
    "model.save(\"Model_1\")\n"
   ]
  },
  {
   "cell_type": "code",
   "execution_count": 6,
   "metadata": {
    "execution": {
     "iopub.execute_input": "2021-02-24T15:38:19.238578Z",
     "iopub.status.busy": "2021-02-24T15:38:19.237888Z",
     "iopub.status.idle": "2021-02-24T15:38:19.474958Z",
     "shell.execute_reply": "2021-02-24T15:38:19.474277Z"
    },
    "papermill": {
     "duration": 33.756775,
     "end_time": "2021-02-24T15:38:19.475080",
     "exception": false,
     "start_time": "2021-02-24T15:37:45.718305",
     "status": "completed"
    },
    "tags": []
   },
   "outputs": [
    {
     "data": {
      "image/png": "[encoded data removed]",
      "text/plain": [
       "<Figure size 432x288 with 1 Axes>"
      ]
     },
     "metadata": {
      "needs_background": "light"
     },
     "output_type": "display_data"
    }
   ],
   "source": [
    "# Visualize the training and validation loss\n",
    "\n",
    "history_dict = history.history\n",
    "loss_values = history_dict['loss']\n",
    "val_loss_values = history_dict['val_loss']\n",
    "epochs = range(1, len(loss_values) + 1)\n",
    "\n",
    "plt.plot(epochs, loss_values, 'ro', label='Training loss')\n",
    "plt.plot(epochs, val_loss_values, 'b', label='Validation loss')\n",
    "plt.title('Training and validation loss')\n",
    "plt.xlabel('Epochs')\n",
    "plt.ylabel('Loss')\n",
    "plt.legend()\n",
    "plt.show()\n"
   ]
  },
  {
   "cell_type": "markdown",
   "metadata": {
    "papermill": {
     "duration": 33.152098,
     "end_time": "2021-02-24T15:39:25.546393",
     "exception": false,
     "start_time": "2021-02-24T15:38:52.394295",
     "status": "completed"
    },
    "tags": []
   },
   "source": [
    "Test final model in the test data:"
   ]
  },
  {
   "cell_type": "code",
   "execution_count": 7,
   "metadata": {
    "execution": {
     "iopub.execute_input": "2021-02-24T15:40:31.686228Z",
     "iopub.status.busy": "2021-02-24T15:40:31.683077Z",
     "iopub.status.idle": "2021-02-24T15:40:49.762218Z",
     "shell.execute_reply": "2021-02-24T15:40:49.761642Z"
    },
    "papermill": {
     "duration": 51.100259,
     "end_time": "2021-02-24T15:40:49.762352",
     "exception": false,
     "start_time": "2021-02-24T15:39:58.662093",
     "status": "completed"
    },
    "tags": []
   },
   "outputs": [
    {
     "data": {
      "text/plain": [
       "0.82477474"
      ]
     },
     "execution_count": 7,
     "metadata": {},
     "output_type": "execute_result"
    }
   ],
   "source": [
    "m = tf.keras.metrics.RootMeanSquaredError()\n",
    "m.update_state(model.predict(X_test_array), y_test)\n",
    "m.result().numpy()\n"
   ]
  },
  {
   "cell_type": "markdown",
   "metadata": {
    "papermill": {
     "duration": 33.074071,
     "end_time": "2021-02-24T15:41:55.742547",
     "exception": false,
     "start_time": "2021-02-24T15:41:22.668476",
     "status": "completed"
    },
    "tags": []
   },
   "source": [
    "# Conclusion\n",
    "\n",
    "In the test result, we can see that our model's RMSE is 0.7731, which is quite good and seemingly so much improved from the Cinematch's performance (0.9514) or the prize winner team ”BellKor’s Pragmatic Chaos” (0.8567) but that is not really true. As our model have not trained in the original massive dataset with more sparse matrix and testing in the qualifying dataset (Netflix's test data) is not possible since the competition closed, any comparation would hardly be correct.\n",
    "\n",
    "Therefore, in this notebook, my main purpose is to show a deep learning approach to the challenge which is simple and effective to apply with a decent accuracy. \n",
    "Any comment about further improvement or correction would be very welcome.\n"
   ]
  },
  {
   "cell_type": "markdown",
   "metadata": {
    "papermill": {
     "duration": 32.872448,
     "end_time": "2021-02-24T15:43:01.518511",
     "exception": false,
     "start_time": "2021-02-24T15:42:28.646063",
     "status": "completed"
    },
    "tags": []
   },
   "source": [
    "References:\n",
    "\n",
    "[1] https://developers.google.com/machine-learning/recommendation/collaborative/matrix\n",
    "\n",
    "[2] https://www.johnwittenauer.net/deep-learning-with-keras-recommender-systems/\n",
    "\n",
    "[3] Nicholas Ampazis. Large Scale Problem Solving with Neural Networks: The Netflix Prize Case, 2010\n",
    "\n",
    "[4] Cyril GarciaJ, et al. The Netflix Challenge, 2018\n",
    "\n",
    "[5] François Chollet, Deep Learning with Python, 2018\n"
   ]
  }
 ],
 "metadata": {
  "kernelspec": {
   "display_name": "Python 3",
   "language": "python",
   "name": "python3"
  },
  "language_info": {
   "codemirror_mode": {
    "name": "ipython",
    "version": 3
   },
   "file_extension": ".py",
   "mimetype": "text/x-python",
   "name": "python",
   "nbconvert_exporter": "python",
   "pygments_lexer": "ipython3",
   "version": "3.7.6"
  },
  "papermill": {
   "duration": 6277.246823,
   "end_time": "2021-02-24T15:43:34.777720",
   "environment_variables": {},
   "exception": null,
   "input_path": "__notebook__.ipynb",
   "output_path": "__notebook__.ipynb",
   "parameters": {},
   "start_time": "2021-02-24T13:58:57.530897",
   "version": "2.1.0"
  }
 },
 "nbformat": 4,
 "nbformat_minor": 4
}
